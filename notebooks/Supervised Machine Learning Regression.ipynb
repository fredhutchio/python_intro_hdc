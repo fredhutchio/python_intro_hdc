{
 "cells": [
  {
   "cell_type": "markdown",
   "metadata": {},
   "source": [
    "# Machine Learning\n",
    "## Packages for the day\n",
    "\n",
    "pip install numpy\n",
    "pip install scipy\n",
    "pip install scikit-learn\n",
    "pip install matplotlib\n",
    "pip install pandas\n",
    "\n",
    "### Where to start?\n",
    "a handy graphic for what solution may be right: https://scikit-learn.org/stable/tutorial/machine_learning_map/\n"
   ]
  },
  {
   "cell_type": "code",
   "execution_count": 12,
   "metadata": {
    "collapsed": true
   },
   "outputs": [],
   "source": [
    "#Our Packages\n",
    "import numpy as np\n",
    "import sklearn\n",
    "import matplotlib.pyplot as plt\n",
    "import pandas as pd"
   ]
  },
  {
   "cell_type": "markdown",
   "metadata": {},
   "source": [
    "## Supervised Learning\n",
    "### supervised:When you have data with 'correct' examples of what you are trying to predict\n",
    "\n",
    "### Regression: the output is a real value (a number eg: 1, 2, 2.5, 3.33333...)\n",
    "Regression most closely resembles a classic math equation: y is some combination of variables x, each with their own weights, and possibly a global prior bias \n",
    "### y = mX + b \n"
   ]
  },
  {
   "cell_type": "code",
   "execution_count": 5,
   "metadata": {
    "collapsed": false
   },
   "outputs": [
    {
     "name": "stdout",
     "output_type": "stream",
     "text": [
      "Our Dataframe:   primary_diagnosis tumor_stage  age_at_diagnosis vital_status morphology  \\\n",
      "0             C34.1    stage ia           24477.0         dead     8070/3   \n",
      "1             C34.1    stage ib           26615.0         dead     8070/3   \n",
      "2             C34.3    stage ib           28171.0         dead     8070/3   \n",
      "3             C34.1    stage ia           27154.0        alive     8083/3   \n",
      "4             C34.3   stage iib           29827.0         dead     8070/3   \n",
      "\n",
      "   days_to_death state tissue_or_organ_of_origin  days_to_birth  \\\n",
      "0          371.0  live                     C34.1       -24477.0   \n",
      "1          136.0  live                     C34.1       -26615.0   \n",
      "2         2304.0  live                     C34.3       -28171.0   \n",
      "3            NaN  live                     C34.1       -27154.0   \n",
      "4          146.0  live                     C34.3       -29827.0   \n",
      "\n",
      "  site_of_resection_or_biopsy  days_to_last_follow_up  cigarettes_per_day  \\\n",
      "0                       C34.1                     NaN           10.958904   \n",
      "1                       C34.1                     NaN            2.191781   \n",
      "2                       C34.3                  2099.0            1.643836   \n",
      "3                       C34.1                  3747.0            1.095890   \n",
      "4                       C34.3                     NaN                 NaN   \n",
      "\n",
      "   years_smoked  gender  year_of_birth          race               ethnicity  \\\n",
      "0           NaN    male         1936.0         white  not hispanic or latino   \n",
      "1           NaN    male         1931.0         asian  not hispanic or latino   \n",
      "2           NaN  female         1927.0         white  not hispanic or latino   \n",
      "3           NaN    male         1930.0         white  not hispanic or latino   \n",
      "4           NaN    male         1923.0  not reported            not reported   \n",
      "\n",
      "   year_of_death bcr_patient_barcode disease  \n",
      "0         2004.0        TCGA-18-3406    LUSC  \n",
      "1         2003.0        TCGA-18-3407    LUSC  \n",
      "2            NaN        TCGA-18-3408    LUSC  \n",
      "3            NaN        TCGA-18-3409    LUSC  \n",
      "4         2004.0        TCGA-18-3410    LUSC  \n",
      "Our Dataframe:        age_at_diagnosis  days_to_death  days_to_birth  days_to_last_follow_up  \\\n",
      "count       6718.000000    2187.000000    6718.000000             5714.000000   \n",
      "mean       22319.849658     878.250114  -22319.849658              976.824991   \n",
      "std         5077.709000    1052.479872    5077.709000             1045.375189   \n",
      "min         3982.000000       0.000000  -32872.000000              -64.000000   \n",
      "25%        19191.250000     274.000000  -26001.500000              345.000000   \n",
      "50%        22841.500000     524.000000  -22841.500000              650.000000   \n",
      "75%        26001.500000    1044.500000  -19191.250000             1259.000000   \n",
      "max        32872.000000   10870.000000   -3982.000000            11252.000000   \n",
      "\n",
      "       cigarettes_per_day  years_smoked  year_of_birth  year_of_death  \n",
      "count         1171.000000    448.000000    6662.000000    1566.000000  \n",
      "mean             2.599307     39.964286    1947.560943    2006.213921  \n",
      "std              2.023490     12.233689      14.317107       4.487636  \n",
      "min              0.008219      8.000000    1902.000000    1990.000000  \n",
      "25%              1.369863     30.750000    1937.000000    2004.000000  \n",
      "50%              2.191781     40.000000    1947.000000    2007.000000  \n",
      "75%              3.287671     50.000000    1957.000000    2010.000000  \n",
      "max             40.000000     63.000000    1993.000000    2014.000000  \n",
      "Our input data:        cigarettes_per_day\n",
      "count         6832.000000\n",
      "mean             0.445519\n",
      "std              1.288796\n",
      "min              0.000000\n",
      "25%              0.000000\n",
      "50%              0.000000\n",
      "75%              0.000000\n",
      "max             40.000000\n",
      "our target data:        cigarettes_per_day\n",
      "count         6832.000000\n",
      "mean             0.445519\n",
      "std              1.288796\n",
      "min              0.000000\n",
      "25%              0.000000\n",
      "50%              0.000000\n",
      "75%              0.000000\n",
      "max             40.000000\n"
     ]
    }
   ],
   "source": [
    "#Defining our Input\n",
    "clinical_df = pd.read_csv('https://raw.githubusercontent.com/fredhutchio/R_intro/master/extra/clinical.csv')\n",
    "\n",
    "#choose all rows, and all columns EXCEPT the target for data\n",
    "clinical_data = clinical_df.loc[:, clinical_df.columns != 'years_smoked']\n",
    "cigarettes_input = clinical_data.loc[:, ['cigarettes_per_day']].fillna(value=0)\n",
    "clinical_target = clinical_df.loc[:, ['years_smoked']].fillna(value=0)\n",
    "print(\"Our input data: {}\".format(cigarettes_input.describe()))\n",
    "print(\"our target data: {}\".format(cigarettes_input.describe()))"
   ]
  },
  {
   "cell_type": "code",
   "execution_count": 6,
   "metadata": {
    "collapsed": true
   },
   "outputs": [],
   "source": [
    "from sklearn.model_selection import train_test_split\n",
    "\n",
    "#split our data into a TRAINING (make the model) and TESTING (evaluate how good the model is) set\n",
    "X_train, X_test, y_train, y_test = train_test_split(cigarettes_input,\n",
    "                                                    clinical_target,\n",
    "                                                    test_size=0.2,\n",
    "                                                    random_state=42)"
   ]
  },
  {
   "cell_type": "code",
   "execution_count": 7,
   "metadata": {
    "collapsed": false
   },
   "outputs": [
    {
     "data": {
      "text/plain": [
       "LinearRegression(copy_X=True, fit_intercept=True, n_jobs=None, normalize=False)"
      ]
     },
     "execution_count": 7,
     "metadata": {},
     "output_type": "execute_result"
    }
   ],
   "source": [
    "from sklearn.linear_model import LinearRegression\n",
    "# Create linear regression object\n",
    "regr = LinearRegression()\n",
    "\n",
    "# Train the model using the training sets\n",
    "regr.fit(X_train, y_train)"
   ]
  },
  {
   "cell_type": "markdown",
   "metadata": {},
   "source": [
    "### Our metrics for a regression model are different from a categorical model. Why?\n",
    "\n",
    "### We instead use Mean Squared Error (a measure of the absolute distance from our estimates to the 'correct' answers\n",
    "### And R^2 score (the variance score) which is a measure from 0 -> 1 of how much predictive power the model has. 1 is perfectly predictive, 0 is absolutely no predictive ability whatsoever"
   ]
  },
  {
   "cell_type": "code",
   "execution_count": 14,
   "metadata": {
    "collapsed": false
   },
   "outputs": [
    {
     "name": "stdout",
     "output_type": "stream",
     "text": [
      "Coefficients: \n",
      " [[ 3.67775143]]\n",
      "Mean squared error: 95.68\n",
      "Variance score: 0.29\n"
     ]
    },
    {
     "data": {
      "image/png": "[encoded data removed]",
      "text/plain": [
       "<Figure size 432x288 with 1 Axes>"
      ]
     },
     "metadata": {},
     "output_type": "display_data"
    }
   ],
   "source": [
    "from sklearn.metrics import mean_squared_error, r2_score\n",
    "\n",
    "# Make predictions using the testing set\n",
    "y_pred = regr.predict(X_test)\n",
    "\n",
    "# The coefficients\n",
    "print('Coefficients: \\n', regr.coef_)\n",
    "# The mean squared error\n",
    "print(\"Mean squared error: %.2f\"\n",
    "      % mean_squared_error(y_test, y_pred))\n",
    "# Explained variance score: 1 is perfect prediction\n",
    "print('Variance score: %.2f' % r2_score(y_test, y_pred))\n",
    "\n",
    "# Plot outputs\n",
    "plt.scatter(X_test, y_test,  color='black')\n",
    "plt.plot(X_test,y_pred, color='blue', linewidth=3)\n",
    "\n",
    "plt.xticks(())\n",
    "plt.yticks(())\n",
    "\n",
    "plt.show()"
   ]
  },
  {
   "cell_type": "markdown",
   "metadata": {},
   "source": [
    "### Interpretting Results\n",
    "We see that our predictive power is low, and that there are a number of 'years_smoked' entries that are 0, despite a large number of cigarettes smoked per day.\n",
    "\n",
    "This doesn't mean that there is NO correlation between these two. In fact, this is just the beginning! What could be convoluting factors in how we prepared this problem?"
   ]
  }
 ],
 "metadata": {
  "kernelspec": {
   "display_name": "Python 3",
   "language": "python",
   "name": "python3"
  },
  "language_info": {
   "codemirror_mode": {
    "name": "ipython",
    "version": 3
   },
   "file_extension": ".py",
   "mimetype": "text/x-python",
   "name": "python",
   "nbconvert_exporter": "python",
   "pygments_lexer": "ipython3",
   "version": "3.6.6"
  }
 },
 "nbformat": 4,
 "nbformat_minor": 2
}

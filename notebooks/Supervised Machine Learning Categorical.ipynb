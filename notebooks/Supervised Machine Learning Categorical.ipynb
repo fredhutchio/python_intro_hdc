{
 "cells": [
  {
   "cell_type": "markdown",
   "metadata": {},
   "source": [
    "# Machine Learning\n",
    "## Packages for the day\n",
    "pip install numpy\n",
    "pip install scipy\n",
    "pip install scikit-learn\n",
    "pip install matplotlib\n",
    "pip install pandas\n",
    "\n",
    "## Where to start?\n",
    "a handy graphic for what solution may be right:\n",
    " https://scikit-learn.org/stable/tutorial/machine_learning_map/ "
   ]
  },
  {
   "cell_type": "code",
   "execution_count": 1,
   "metadata": {
    "collapsed": false
   },
   "outputs": [],
   "source": [
    "#Our Packages\n",
    "import numpy as np\n",
    "import sklearn\n",
    "import matplotlib\n",
    "import pandas as pd"
   ]
  },
  {
   "cell_type": "markdown",
   "metadata": {},
   "source": [
    "## Supervised Learning\n",
    "### supervised:When you have data with 'correct' examples of what you are trying to predict\n",
    "\n",
    "### Classification: the output is a discrete value (a 'label' eg: 'yes' vs 'no' 'red' vs 'blue' vs. 'green'\n"
   ]
  },
  {
   "cell_type": "code",
   "execution_count": 162,
   "metadata": {
    "collapsed": false
   },
   "outputs": [
    {
     "name": "stdout",
     "output_type": "stream",
     "text": [
      "Our Dataframe:   primary_diagnosis tumor_stage  age_at_diagnosis vital_status morphology  \\\n",
      "0             C34.1    stage ia           24477.0         dead     8070/3   \n",
      "1             C34.1    stage ib           26615.0         dead     8070/3   \n",
      "2             C34.3    stage ib           28171.0         dead     8070/3   \n",
      "3             C34.1    stage ia           27154.0        alive     8083/3   \n",
      "4             C34.3   stage iib           29827.0         dead     8070/3   \n",
      "\n",
      "   days_to_death state tissue_or_organ_of_origin  days_to_birth  \\\n",
      "0          371.0  live                     C34.1       -24477.0   \n",
      "1          136.0  live                     C34.1       -26615.0   \n",
      "2         2304.0  live                     C34.3       -28171.0   \n",
      "3            NaN  live                     C34.1       -27154.0   \n",
      "4          146.0  live                     C34.3       -29827.0   \n",
      "\n",
      "  site_of_resection_or_biopsy  days_to_last_follow_up  cigarettes_per_day  \\\n",
      "0                       C34.1                     NaN           10.958904   \n",
      "1                       C34.1                     NaN            2.191781   \n",
      "2                       C34.3                  2099.0            1.643836   \n",
      "3                       C34.1                  3747.0            1.095890   \n",
      "4                       C34.3                     NaN                 NaN   \n",
      "\n",
      "   years_smoked  gender  year_of_birth          race               ethnicity  \\\n",
      "0           NaN    male         1936.0         white  not hispanic or latino   \n",
      "1           NaN    male         1931.0         asian  not hispanic or latino   \n",
      "2           NaN  female         1927.0         white  not hispanic or latino   \n",
      "3           NaN    male         1930.0         white  not hispanic or latino   \n",
      "4           NaN    male         1923.0  not reported            not reported   \n",
      "\n",
      "   year_of_death bcr_patient_barcode disease  \n",
      "0         2004.0        TCGA-18-3406    LUSC  \n",
      "1         2003.0        TCGA-18-3407    LUSC  \n",
      "2            NaN        TCGA-18-3408    LUSC  \n",
      "3            NaN        TCGA-18-3409    LUSC  \n",
      "4         2004.0        TCGA-18-3410    LUSC  \n",
      "Our Dataframe:        age_at_diagnosis  days_to_death  days_to_birth  days_to_last_follow_up  \\\n",
      "count       6718.000000    2187.000000    6718.000000             5714.000000   \n",
      "mean       22319.849658     878.250114  -22319.849658              976.824991   \n",
      "std         5077.709000    1052.479872    5077.709000             1045.375189   \n",
      "min         3982.000000       0.000000  -32872.000000              -64.000000   \n",
      "25%        19191.250000     274.000000  -26001.500000              345.000000   \n",
      "50%        22841.500000     524.000000  -22841.500000              650.000000   \n",
      "75%        26001.500000    1044.500000  -19191.250000             1259.000000   \n",
      "max        32872.000000   10870.000000   -3982.000000            11252.000000   \n",
      "\n",
      "       cigarettes_per_day  years_smoked  year_of_birth  year_of_death  \n",
      "count         1171.000000    448.000000    6662.000000    1566.000000  \n",
      "mean             2.599307     39.964286    1947.560943    2006.213921  \n",
      "std              2.023490     12.233689      14.317107       4.487636  \n",
      "min              0.008219      8.000000    1902.000000    1990.000000  \n",
      "25%              1.369863     30.750000    1937.000000    2004.000000  \n",
      "50%              2.191781     40.000000    1947.000000    2007.000000  \n",
      "75%              3.287671     50.000000    1957.000000    2010.000000  \n",
      "max             40.000000     63.000000    1993.000000    2014.000000  \n",
      "Our input data:        cigarettes_per_day  years_smoked\n",
      "count         6832.000000   6832.000000\n",
      "mean             0.445519      2.620609\n",
      "std              1.288796     10.376464\n",
      "min              0.000000      0.000000\n",
      "25%              0.000000      0.000000\n",
      "50%              0.000000      0.000000\n",
      "75%              0.000000      0.000000\n",
      "max             40.000000     63.000000\n",
      "our target data: count    6832.000000\n",
      "mean        0.671253\n",
      "std         0.469792\n",
      "min         0.000000\n",
      "25%         0.000000\n",
      "50%         1.000000\n",
      "75%         1.000000\n",
      "max         1.000000\n",
      "Name: vital_status, dtype: float64\n"
     ]
    }
   ],
   "source": [
    "#Defining our Input\n",
    "clinical_df = pd.read_csv('https://raw.githubusercontent.com/fredhutchio/R_intro/master/extra/clinical.csv')\n",
    "\n",
    "#we have 20 columns, ie 19 features and 1 target to try and predict\n",
    "print(\"Our Dataframe: {}\".format(clinical_df.head()))\n",
    "print(\"Our Dataframe: {}\".format(clinical_df.describe()))\n",
    "\n",
    "from sklearn.preprocessing import OneHotEncoder\n",
    "from collections import defaultdict\n",
    "enc = OneHotEncoder(handle_unknown='ignore')\n",
    "\n",
    "#choose all rows, and all columns EXCEPT the target for data\n",
    "clinical_data = clinical_df.loc[:, clinical_df.columns != 'year_of_death']\n",
    "#grab only numeric data, replace NaN's with the mean of that column\n",
    "numeric_clinical_data = clinical_data.select_dtypes(include=[np.number]).fillna(value=clinical_data.mean()) \n",
    "cigarettes_per_day = clinical_data.loc[:, ['cigarettes_per_day', 'years_smoked']].fillna(value=0)\n",
    "#map 'year of death' to a binary 'are they dead?' feature\n",
    "clinical_target = clinical_df['vital_status'].apply(lambda x: 1 if x == 'alive' else 0)\n",
    "print(\"Our input data: {}\".format(cigarettes_per_day.describe()))\n",
    "print(\"our target data: {}\".format(clinical_target.describe()))"
   ]
  },
  {
   "cell_type": "code",
   "execution_count": 158,
   "metadata": {
    "collapsed": false
   },
   "outputs": [
    {
     "data": {
      "text/html": [
       "<div>\n",
       "<table border=\"1\" class=\"dataframe\">\n",
       "  <thead>\n",
       "    <tr style=\"text-align: right;\">\n",
       "      <th></th>\n",
       "      <th>primary_diagnosis</th>\n",
       "      <th>tumor_stage</th>\n",
       "      <th>age_at_diagnosis</th>\n",
       "      <th>vital_status</th>\n",
       "      <th>morphology</th>\n",
       "      <th>days_to_death</th>\n",
       "      <th>state</th>\n",
       "      <th>tissue_or_organ_of_origin</th>\n",
       "      <th>days_to_birth</th>\n",
       "      <th>site_of_resection_or_biopsy</th>\n",
       "      <th>days_to_last_follow_up</th>\n",
       "      <th>cigarettes_per_day</th>\n",
       "      <th>years_smoked</th>\n",
       "      <th>gender</th>\n",
       "      <th>year_of_birth</th>\n",
       "      <th>race</th>\n",
       "      <th>ethnicity</th>\n",
       "      <th>year_of_death</th>\n",
       "      <th>bcr_patient_barcode</th>\n",
       "      <th>disease</th>\n",
       "    </tr>\n",
       "  </thead>\n",
       "  <tbody>\n",
       "    <tr>\n",
       "      <th>0</th>\n",
       "      <td>C34.1</td>\n",
       "      <td>stage ia</td>\n",
       "      <td>24477.0</td>\n",
       "      <td>dead</td>\n",
       "      <td>8070/3</td>\n",
       "      <td>371.0</td>\n",
       "      <td>live</td>\n",
       "      <td>C34.1</td>\n",
       "      <td>-24477.0</td>\n",
       "      <td>C34.1</td>\n",
       "      <td>NaN</td>\n",
       "      <td>10.958904</td>\n",
       "      <td>NaN</td>\n",
       "      <td>male</td>\n",
       "      <td>1936.0</td>\n",
       "      <td>white</td>\n",
       "      <td>not hispanic or latino</td>\n",
       "      <td>2004.0</td>\n",
       "      <td>TCGA-18-3406</td>\n",
       "      <td>LUSC</td>\n",
       "    </tr>\n",
       "    <tr>\n",
       "      <th>1</th>\n",
       "      <td>C34.1</td>\n",
       "      <td>stage ib</td>\n",
       "      <td>26615.0</td>\n",
       "      <td>dead</td>\n",
       "      <td>8070/3</td>\n",
       "      <td>136.0</td>\n",
       "      <td>live</td>\n",
       "      <td>C34.1</td>\n",
       "      <td>-26615.0</td>\n",
       "      <td>C34.1</td>\n",
       "      <td>NaN</td>\n",
       "      <td>2.191781</td>\n",
       "      <td>NaN</td>\n",
       "      <td>male</td>\n",
       "      <td>1931.0</td>\n",
       "      <td>asian</td>\n",
       "      <td>not hispanic or latino</td>\n",
       "      <td>2003.0</td>\n",
       "      <td>TCGA-18-3407</td>\n",
       "      <td>LUSC</td>\n",
       "    </tr>\n",
       "    <tr>\n",
       "      <th>2</th>\n",
       "      <td>C34.3</td>\n",
       "      <td>stage ib</td>\n",
       "      <td>28171.0</td>\n",
       "      <td>dead</td>\n",
       "      <td>8070/3</td>\n",
       "      <td>2304.0</td>\n",
       "      <td>live</td>\n",
       "      <td>C34.3</td>\n",
       "      <td>-28171.0</td>\n",
       "      <td>C34.3</td>\n",
       "      <td>2099.0</td>\n",
       "      <td>1.643836</td>\n",
       "      <td>NaN</td>\n",
       "      <td>female</td>\n",
       "      <td>1927.0</td>\n",
       "      <td>white</td>\n",
       "      <td>not hispanic or latino</td>\n",
       "      <td>NaN</td>\n",
       "      <td>TCGA-18-3408</td>\n",
       "      <td>LUSC</td>\n",
       "    </tr>\n",
       "    <tr>\n",
       "      <th>3</th>\n",
       "      <td>C34.1</td>\n",
       "      <td>stage ia</td>\n",
       "      <td>27154.0</td>\n",
       "      <td>alive</td>\n",
       "      <td>8083/3</td>\n",
       "      <td>NaN</td>\n",
       "      <td>live</td>\n",
       "      <td>C34.1</td>\n",
       "      <td>-27154.0</td>\n",
       "      <td>C34.1</td>\n",
       "      <td>3747.0</td>\n",
       "      <td>1.095890</td>\n",
       "      <td>NaN</td>\n",
       "      <td>male</td>\n",
       "      <td>1930.0</td>\n",
       "      <td>white</td>\n",
       "      <td>not hispanic or latino</td>\n",
       "      <td>NaN</td>\n",
       "      <td>TCGA-18-3409</td>\n",
       "      <td>LUSC</td>\n",
       "    </tr>\n",
       "    <tr>\n",
       "      <th>4</th>\n",
       "      <td>C34.3</td>\n",
       "      <td>stage iib</td>\n",
       "      <td>29827.0</td>\n",
       "      <td>dead</td>\n",
       "      <td>8070/3</td>\n",
       "      <td>146.0</td>\n",
       "      <td>live</td>\n",
       "      <td>C34.3</td>\n",
       "      <td>-29827.0</td>\n",
       "      <td>C34.3</td>\n",
       "      <td>NaN</td>\n",
       "      <td>NaN</td>\n",
       "      <td>NaN</td>\n",
       "      <td>male</td>\n",
       "      <td>1923.0</td>\n",
       "      <td>not reported</td>\n",
       "      <td>not reported</td>\n",
       "      <td>2004.0</td>\n",
       "      <td>TCGA-18-3410</td>\n",
       "      <td>LUSC</td>\n",
       "    </tr>\n",
       "  </tbody>\n",
       "</table>\n",
       "</div>"
      ],
      "text/plain": [
       "  primary_diagnosis tumor_stage  age_at_diagnosis vital_status morphology  \\\n",
       "0             C34.1    stage ia           24477.0         dead     8070/3   \n",
       "1             C34.1    stage ib           26615.0         dead     8070/3   \n",
       "2             C34.3    stage ib           28171.0         dead     8070/3   \n",
       "3             C34.1    stage ia           27154.0        alive     8083/3   \n",
       "4             C34.3   stage iib           29827.0         dead     8070/3   \n",
       "\n",
       "   days_to_death state tissue_or_organ_of_origin  days_to_birth  \\\n",
       "0          371.0  live                     C34.1       -24477.0   \n",
       "1          136.0  live                     C34.1       -26615.0   \n",
       "2         2304.0  live                     C34.3       -28171.0   \n",
       "3            NaN  live                     C34.1       -27154.0   \n",
       "4          146.0  live                     C34.3       -29827.0   \n",
       "\n",
       "  site_of_resection_or_biopsy  days_to_last_follow_up  cigarettes_per_day  \\\n",
       "0                       C34.1                     NaN           10.958904   \n",
       "1                       C34.1                     NaN            2.191781   \n",
       "2                       C34.3                  2099.0            1.643836   \n",
       "3                       C34.1                  3747.0            1.095890   \n",
       "4                       C34.3                     NaN                 NaN   \n",
       "\n",
       "   years_smoked  gender  year_of_birth          race               ethnicity  \\\n",
       "0           NaN    male         1936.0         white  not hispanic or latino   \n",
       "1           NaN    male         1931.0         asian  not hispanic or latino   \n",
       "2           NaN  female         1927.0         white  not hispanic or latino   \n",
       "3           NaN    male         1930.0         white  not hispanic or latino   \n",
       "4           NaN    male         1923.0  not reported            not reported   \n",
       "\n",
       "   year_of_death bcr_patient_barcode disease  \n",
       "0         2004.0        TCGA-18-3406    LUSC  \n",
       "1         2003.0        TCGA-18-3407    LUSC  \n",
       "2            NaN        TCGA-18-3408    LUSC  \n",
       "3            NaN        TCGA-18-3409    LUSC  \n",
       "4         2004.0        TCGA-18-3410    LUSC  "
      ]
     },
     "execution_count": 158,
     "metadata": {},
     "output_type": "execute_result"
    }
   ],
   "source": [
    "clinical_df.head()"
   ]
  },
  {
   "cell_type": "code",
   "execution_count": 163,
   "metadata": {
    "collapsed": false
   },
   "outputs": [],
   "source": [
    "from sklearn.model_selection import train_test_split\n",
    "\n",
    "#split our data into a TRAINING (make the model) and TESTING (evaluate how good the model is) set\n",
    "X_train, X_test, y_train, y_test = train_test_split(cigarettes_per_day,\n",
    "                                                    clinical_target,\n",
    "                                                    test_size=0.2,\n",
    "                                                    random_state=42)\n",
    "\n"
   ]
  },
  {
   "cell_type": "code",
   "execution_count": 164,
   "metadata": {
    "collapsed": false
   },
   "outputs": [
    {
     "data": {
      "text/plain": [
       "SVC(C=1.0, cache_size=200, class_weight=None, coef0=0.0,\n",
       "  decision_function_shape=None, degree=3, gamma='auto', kernel='linear',\n",
       "  max_iter=-1, probability=False, random_state=None, shrinking=True,\n",
       "  tol=0.001, verbose=False)"
      ]
     },
     "execution_count": 164,
     "metadata": {},
     "output_type": "execute_result"
    }
   ],
   "source": [
    "#Define and train a model\n",
    "import sklearn.svm as svm\n",
    "'''\n",
    "a Linear classifier, based on the fairly popular 'Support Vector Machine' family\n",
    "read about them at: https://en.wikipedia.org/wiki/Support-vector_machine\n",
    "and the kernel trick: https://en.wikipedia.org/wiki/Support-vector_machine#Kernel_trick\n",
    "This is useful when we have primarily numeric information that we're trying to deal with.\n",
    "That isn't to say that you cannot use it if you have some sort of categorical information; \n",
    "    you just have to convert it to a format that is.\n",
    "\n",
    "\n",
    "for our purposes, it is enough to say that the kernel trick is a way to map a set of variables \n",
    "to another space where *hopefully* it is more easily separable\n",
    "for example mapping x,y (2-D) coordinates to a 3-D space where we can draw our line through it for classification:\n",
    "  https://en.wikipedia.org/wiki/Support-vector_machine#/media/File:Kernel_trick_idea.svg\n",
    "  \n",
    "\n",
    "'''\n",
    "\n",
    "linear_classifier = svm.SVC(kernel='linear', C=1.0)\n",
    "linear_classifier.fit(X_train, y_train)"
   ]
  },
  {
   "cell_type": "code",
   "execution_count": 165,
   "metadata": {
    "collapsed": false
   },
   "outputs": [
    {
     "name": "stdout",
     "output_type": "stream",
     "text": [
      "Number of mislabeled points out of a total 1367 points : 449\n"
     ]
    },
    {
     "data": {
      "text/plain": [
       "array([[  0, 449],\n",
       "       [  0, 918]])"
      ]
     },
     "execution_count": 165,
     "metadata": {},
     "output_type": "execute_result"
    }
   ],
   "source": [
    "#Evaluate our model\n",
    "\n",
    "#get the predictions from our model\n",
    "y_pred = linear_classifier.predict(X_test)\n",
    "\n",
    "from sklearn.metrics import confusion_matrix\n",
    "print(\"Number of mislabeled points out of a total %d points : %d\" % (y_test.shape[0],(y_test != y_pred).sum()))\n",
    "confusion_matrix(y_test, y_pred)\n"
   ]
  },
  {
   "cell_type": "markdown",
   "metadata": {},
   "source": [
    "### Metrics\n",
    "We chose as our metric 'absolute accuracy' How good of a metric is this?\n",
    "When we look at the confusion matrix, what do we see that stands out as strange?"
   ]
  },
  {
   "cell_type": "code",
   "execution_count": 155,
   "metadata": {
    "collapsed": false
   },
   "outputs": [
    {
     "data": {
      "image/png": "[encoded data removed]",
      "text/plain": [
       "<Figure size 432x288 with 1 Axes>"
      ]
     },
     "metadata": {},
     "output_type": "display_data"
    }
   ],
   "source": [
    "#make the plot\n",
    "import matplotlib.pyplot as plt\n",
    "plt.clf()\n",
    "plt.scatter(X_test.cigarettes_per_day, y_test, color='black')\n",
    "plt.plot(X_test.cigarettes_per_day, y_pred, color='red', linewidth=1)\n",
    "plt.show()"
   ]
  },
  {
   "cell_type": "markdown",
   "metadata": {},
   "source": [
    "## What Happened?\n",
    "### Our Model learned that, since most patients are alive (ie: label = 1) the best prediction is always that the patient is alive.\n",
    "### What other evaluation metrics could we use instead?\n"
   ]
  },
  {
   "cell_type": "markdown",
   "metadata": {},
   "source": [
    "### You may have noticed that there is more work done to prepare the data\n",
    "### (choose only numeric info, fill missing information, map our target variable to a '1, 0' variable\n",
    "### And that was only with a subset of the information available!"
   ]
  },
  {
   "cell_type": "markdown",
   "metadata": {},
   "source": [
    "# The Moral of the Story\n",
    "## Machine Learning is as good as the data you have, and the overwhelming amount of time spent will be in preparing, imputing and otherwise understanding the data that you have available."
   ]
  },
  {
   "cell_type": "markdown",
   "metadata": {},
   "source": [
    "### Some nice data that behaves well: the Iris dataset"
   ]
  },
  {
   "cell_type": "code",
   "execution_count": 143,
   "metadata": {
    "collapsed": false
   },
   "outputs": [],
   "source": [
    "import sklearn.datasets as datasets\n",
    "from sklearn.metrics import accuracy_score\n",
    "\n",
    "iris = datasets.load_iris()\n",
    "\n",
    "#using only petal length and width\n",
    "iris_X = iris.data[:, 2:]\n",
    "iris_y = iris.target\n",
    "target_names = iris.target_names"
   ]
  },
  {
   "cell_type": "code",
   "execution_count": 144,
   "metadata": {
    "collapsed": false
   },
   "outputs": [],
   "source": [
    "iris_X_train, iris_X_test, iris_y_train, iris_y_test = train_test_split(iris_X,\n",
    "                                                                        iris_y,\n",
    "                                                                        test_size=0.3,\n",
    "                                                                        random_state=42)"
   ]
  },
  {
   "cell_type": "code",
   "execution_count": 152,
   "metadata": {
    "collapsed": false
   },
   "outputs": [
    {
     "name": "stdout",
     "output_type": "stream",
     "text": [
      "[[ 1.4  0.2]\n",
      " [ 1.4  0.2]\n",
      " [ 1.3  0.2]\n",
      " [ 1.5  0.2]\n",
      " [ 1.4  0.2]\n",
      " [ 1.7  0.4]\n",
      " [ 1.4  0.3]\n",
      " [ 1.5  0.2]\n",
      " [ 1.4  0.2]\n",
      " [ 1.5  0.1]\n",
      " [ 1.5  0.2]\n",
      " [ 1.6  0.2]\n",
      " [ 1.4  0.1]\n",
      " [ 1.1  0.1]\n",
      " [ 1.2  0.2]\n",
      " [ 1.5  0.4]\n",
      " [ 1.3  0.4]\n",
      " [ 1.4  0.3]\n",
      " [ 1.7  0.3]\n",
      " [ 1.5  0.3]\n",
      " [ 1.7  0.2]\n",
      " [ 1.5  0.4]\n",
      " [ 1.   0.2]\n",
      " [ 1.7  0.5]\n",
      " [ 1.9  0.2]\n",
      " [ 1.6  0.2]\n",
      " [ 1.6  0.4]\n",
      " [ 1.5  0.2]\n",
      " [ 1.4  0.2]\n",
      " [ 1.6  0.2]\n",
      " [ 1.6  0.2]\n",
      " [ 1.5  0.4]\n",
      " [ 1.5  0.1]\n",
      " [ 1.4  0.2]\n",
      " [ 1.5  0.1]\n",
      " [ 1.2  0.2]\n",
      " [ 1.3  0.2]\n",
      " [ 1.5  0.1]\n",
      " [ 1.3  0.2]\n",
      " [ 1.5  0.2]\n",
      " [ 1.3  0.3]\n",
      " [ 1.3  0.3]\n",
      " [ 1.3  0.2]\n",
      " [ 1.6  0.6]\n",
      " [ 1.9  0.4]\n",
      " [ 1.4  0.3]\n",
      " [ 1.6  0.2]\n",
      " [ 1.4  0.2]\n",
      " [ 1.5  0.2]\n",
      " [ 1.4  0.2]\n",
      " [ 4.7  1.4]\n",
      " [ 4.5  1.5]\n",
      " [ 4.9  1.5]\n",
      " [ 4.   1.3]\n",
      " [ 4.6  1.5]\n",
      " [ 4.5  1.3]\n",
      " [ 4.7  1.6]\n",
      " [ 3.3  1. ]\n",
      " [ 4.6  1.3]\n",
      " [ 3.9  1.4]\n",
      " [ 3.5  1. ]\n",
      " [ 4.2  1.5]\n",
      " [ 4.   1. ]\n",
      " [ 4.7  1.4]\n",
      " [ 3.6  1.3]\n",
      " [ 4.4  1.4]\n",
      " [ 4.5  1.5]\n",
      " [ 4.1  1. ]\n",
      " [ 4.5  1.5]\n",
      " [ 3.9  1.1]\n",
      " [ 4.8  1.8]\n",
      " [ 4.   1.3]\n",
      " [ 4.9  1.5]\n",
      " [ 4.7  1.2]\n",
      " [ 4.3  1.3]\n",
      " [ 4.4  1.4]\n",
      " [ 4.8  1.4]\n",
      " [ 5.   1.7]\n",
      " [ 4.5  1.5]\n",
      " [ 3.5  1. ]\n",
      " [ 3.8  1.1]\n",
      " [ 3.7  1. ]\n",
      " [ 3.9  1.2]\n",
      " [ 5.1  1.6]\n",
      " [ 4.5  1.5]\n",
      " [ 4.5  1.6]\n",
      " [ 4.7  1.5]\n",
      " [ 4.4  1.3]\n",
      " [ 4.1  1.3]\n",
      " [ 4.   1.3]\n",
      " [ 4.4  1.2]\n",
      " [ 4.6  1.4]\n",
      " [ 4.   1.2]\n",
      " [ 3.3  1. ]\n",
      " [ 4.2  1.3]\n",
      " [ 4.2  1.2]\n",
      " [ 4.2  1.3]\n",
      " [ 4.3  1.3]\n",
      " [ 3.   1.1]\n",
      " [ 4.1  1.3]\n",
      " [ 6.   2.5]\n",
      " [ 5.1  1.9]\n",
      " [ 5.9  2.1]\n",
      " [ 5.6  1.8]\n",
      " [ 5.8  2.2]\n",
      " [ 6.6  2.1]\n",
      " [ 4.5  1.7]\n",
      " [ 6.3  1.8]\n",
      " [ 5.8  1.8]\n",
      " [ 6.1  2.5]\n",
      " [ 5.1  2. ]\n",
      " [ 5.3  1.9]\n",
      " [ 5.5  2.1]\n",
      " [ 5.   2. ]\n",
      " [ 5.1  2.4]\n",
      " [ 5.3  2.3]\n",
      " [ 5.5  1.8]\n",
      " [ 6.7  2.2]\n",
      " [ 6.9  2.3]\n",
      " [ 5.   1.5]\n",
      " [ 5.7  2.3]\n",
      " [ 4.9  2. ]\n",
      " [ 6.7  2. ]\n",
      " [ 4.9  1.8]\n",
      " [ 5.7  2.1]\n",
      " [ 6.   1.8]\n",
      " [ 4.8  1.8]\n",
      " [ 4.9  1.8]\n",
      " [ 5.6  2.1]\n",
      " [ 5.8  1.6]\n",
      " [ 6.1  1.9]\n",
      " [ 6.4  2. ]\n",
      " [ 5.6  2.2]\n",
      " [ 5.1  1.5]\n",
      " [ 5.6  1.4]\n",
      " [ 6.1  2.3]\n",
      " [ 5.6  2.4]\n",
      " [ 5.5  1.8]\n",
      " [ 4.8  1.8]\n",
      " [ 5.4  2.1]\n",
      " [ 5.6  2.4]\n",
      " [ 5.1  2.3]\n",
      " [ 5.1  1.9]\n",
      " [ 5.9  2.3]\n",
      " [ 5.7  2.5]\n",
      " [ 5.2  2.3]\n",
      " [ 5.   1.9]\n",
      " [ 5.2  2. ]\n",
      " [ 5.4  2.3]\n",
      " [ 5.1  1.8]]\n"
     ]
    }
   ],
   "source": [
    "linear_classifier = svm.SVC(kernel='linear', C=1.0)\n",
    "linear_classifier.fit(iris_X_train, target_names[iris_y_train])\n",
    "\n",
    "print(iris_X)"
   ]
  },
  {
   "cell_type": "code",
   "execution_count": 146,
   "metadata": {
    "collapsed": false
   },
   "outputs": [
    {
     "name": "stdout",
     "output_type": "stream",
     "text": [
      "our accuracy: 1.0\n",
      "[[19  0  0]\n",
      " [ 0 13  0]\n",
      " [ 0  0 13]]\n"
     ]
    }
   ],
   "source": [
    "# Make predictions using the testing set\n",
    "iris_y_pred = linear_classifier.predict(iris_X_test)\n",
    "\n",
    "print(\"our accuracy: {}\".format(accuracy_score(iris_y_pred, target_names[iris_y_test])))\n",
    "print(confusion_matrix(target_names[iris_y_test], iris_y_pred, labels=target_names))\n"
   ]
  },
  {
   "cell_type": "markdown",
   "metadata": {},
   "source": [
    "## Why does this do so much better?"
   ]
  },
  {
   "cell_type": "code",
   "execution_count": 154,
   "metadata": {
    "collapsed": false
   },
   "outputs": [
    {
     "data": {
      "text/plain": [
       "<Figure size 432x288 with 0 Axes>"
      ]
     },
     "metadata": {},
     "output_type": "display_data"
    },
    {
     "data": {
      "image/png": "[encoded data removed]",
      "text/plain": [
       "<Figure size 864x216 with 2 Axes>"
      ]
     },
     "metadata": {},
     "output_type": "display_data"
    }
   ],
   "source": [
    "plt.clf()\n",
    "# Start with a plot figure of size 12 units wide & 3 units tall\n",
    "plt.figure(figsize=(12,3))\n",
    "\n",
    "# Create an array of three colours, one for each species.\n",
    "colors = np.array(['red', 'green', 'blue'])\n",
    "\n",
    "#Draw a Scatter plot for Sepal Length vs Sepal Width\n",
    "#nrows=1, ncols=2, plot_number=1\n",
    "# http://matplotlib.org/api/pyplot_api.html#matplotlib.pyplot.subplot\n",
    "plt.subplot(1, 2, 1)\n",
    "\n",
    "# http://matplotlib.org/api/pyplot_api.html#matplotlib.pyplot.scatter\n",
    "plt.scatter(iris.data[:, 0], iris.data[:, 1], c=colors[iris_y], s=40)\n",
    "plt.title('Sepal Length vs Sepal Width')\n",
    "\n",
    "plt.subplot(1,2,2)\n",
    "plt.scatter(iris.data[:, 2], iris.data[:, 3], c= colors[iris_y], s=40)\n",
    "plt.title('Petal Length vs Petal Width')\n",
    "plt.show()"
   ]
  },
  {
   "cell_type": "markdown",
   "metadata": {},
   "source": [
    "### Petal Length + Width have very clear groupings, and therefore is a much easier prediction problem!"
   ]
  },
  {
   "cell_type": "code",
   "execution_count": null,
   "metadata": {
    "collapsed": true
   },
   "outputs": [],
   "source": []
  }
 ],
 "metadata": {
  "kernelspec": {
   "display_name": "Python 3",
   "language": "python",
   "name": "python3"
  },
  "language_info": {
   "codemirror_mode": {
    "name": "ipython",
    "version": 3
   },
   "file_extension": ".py",
   "mimetype": "text/x-python",
   "name": "python",
   "nbconvert_exporter": "python",
   "pygments_lexer": "ipython3",
   "version": "3.6.6"
  }
 },
 "nbformat": 4,
 "nbformat_minor": 2
}
